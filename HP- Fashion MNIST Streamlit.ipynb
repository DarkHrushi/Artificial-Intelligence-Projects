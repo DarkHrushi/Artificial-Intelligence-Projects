{
 "cells": [
  {
   "cell_type": "code",
   "execution_count": 1,
   "id": "e1dd16c1",
   "metadata": {},
   "outputs": [
    {
     "name": "stdout",
     "output_type": "stream",
     "text": [
      "WARNING:tensorflow:From C:\\Users\\admin\\anaconda3\\lib\\site-packages\\keras\\src\\losses.py:2976: The name tf.losses.sparse_softmax_cross_entropy is deprecated. Please use tf.compat.v1.losses.sparse_softmax_cross_entropy instead.\n",
      "\n"
     ]
    },
    {
     "name": "stderr",
     "output_type": "stream",
     "text": [
      "C:\\Users\\admin\\anaconda3\\lib\\site-packages\\pandas\\core\\arrays\\masked.py:60: UserWarning: Pandas requires version '1.3.6' or newer of 'bottleneck' (version '1.3.5' currently installed).\n",
      "  from pandas.core import (\n"
     ]
    },
    {
     "name": "stdout",
     "output_type": "stream",
     "text": [
      "WARNING:tensorflow:From C:\\Users\\admin\\anaconda3\\lib\\site-packages\\keras\\src\\backend.py:1398: The name tf.executing_eagerly_outside_functions is deprecated. Please use tf.compat.v1.executing_eagerly_outside_functions instead.\n",
      "\n",
      "WARNING:tensorflow:From C:\\Users\\admin\\anaconda3\\lib\\site-packages\\keras\\src\\layers\\pooling\\max_pooling2d.py:161: The name tf.nn.max_pool is deprecated. Please use tf.nn.max_pool2d instead.\n",
      "\n"
     ]
    }
   ],
   "source": [
    "import numpy as np\n",
    "import tensorflow as tf\n",
    "from tensorflow.keras.models import load_model\n",
    "import streamlit as st\n",
    "from PIL import Image\n",
    "\n",
    "# Load the trained model\n",
    "model = load_model(\"fashion_mnist_cnn_model.h5\")\n",
    "\n",
    "# Map class index to class labels for Fashion MNIST\n",
    "class_labels = {\n",
    "    0: 'T-shirt/top',\n",
    "    1: 'Trouser',\n",
    "    2: 'Pullover',\n",
    "    3: 'Dress',\n",
    "    4: 'Coat',\n",
    "    5: 'Sandal',\n",
    "    6: 'Shirt',\n",
    "    7: 'Sneaker',\n",
    "    8: 'Bag',\n",
    "    9: 'Ankle boot'\n",
    "}\n",
    "\n",
    "def preprocess_image(image):\n",
    "    # Resize the image while maintaining the aspect ratio and padding with zeros\n",
    "    image.thumbnail((28, 28))\n",
    "    background = Image.new('RGB', (28, 28), (0, 0, 0))\n",
    "    background.paste(image, (int((28 - image.width) / 2), int((28 - image.height) / 2)))\n",
    "    # Convert to grayscale\n",
    "    image = background.convert('L')\n",
    "    # Convert image to numpy array\n",
    "    image_array = np.array(image)\n",
    "    # Normalize pixel values to match model training\n",
    "    image_array = (image_array - 33.318421449829934) / 78.56748998339798\n",
    "    # Expand dimensions to match model input shape\n",
    "    image_array = np.expand_dims(image_array, axis=0)\n",
    "    image_array = np.expand_dims(image_array, axis=-1)\n",
    "    return image_array\n",
    "\n",
    "def classify_image(image):\n",
    "    # Preprocess the image\n",
    "    processed_image = preprocess_image(image)\n",
    "    # Make prediction\n",
    "    prediction = model.predict(processed_image)\n",
    "    # Get the predicted class label\n",
    "    predicted_class = np.argmax(prediction)\n",
    "    # Get the confidence score\n",
    "    confidence = prediction[0][predicted_class]\n",
    "    # Get the class label\n",
    "    class_label = class_labels[predicted_class]\n",
    "    return class_label, confidence\n",
    "\n",
    "def main():\n",
    "    st.title(\"Fashion MNIST Image Classifier\")\n",
    "    st.write(\"Upload an image of a fashion item to classify it.\")\n",
    " \n",
    "    uploaded_file = st.file_uploader(\"Choose an image...\", type=[\"jpg\", \"jpeg\", \"png\"])\n",
    " \n",
    "    if uploaded_file is not None:\n",
    "        image = Image.open(uploaded_file)\n",
    "        st.image(image, caption='Uploaded Image.', use_column_width=True)\n",
    " \n",
    "        if st.button('Classify'):\n",
    "            class_label, confidence = classify_image(image)\n",
    "            st.write(f\"Predicted Class: {class_label}\")\n",
    "            st.write(f\"Confidence: {confidence:.2f}\")\n",
    " \n",
    "if __name__ == \"_main_\":\n",
    "    main()"
   ]
  },
  {
   "cell_type": "code",
   "execution_count": null,
   "id": "c53cd6e6",
   "metadata": {},
   "outputs": [],
   "source": []
  }
 ],
 "metadata": {
  "kernelspec": {
   "display_name": "Python 3 (ipykernel)",
   "language": "python",
   "name": "python3"
  },
  "language_info": {
   "codemirror_mode": {
    "name": "ipython",
    "version": 3
   },
   "file_extension": ".py",
   "mimetype": "text/x-python",
   "name": "python",
   "nbconvert_exporter": "python",
   "pygments_lexer": "ipython3",
   "version": "3.10.9"
  }
 },
 "nbformat": 4,
 "nbformat_minor": 5
}
