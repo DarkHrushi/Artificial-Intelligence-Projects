{
 "cells": [
  {
   "cell_type": "code",
   "execution_count": 1,
   "id": "7cdfcf0f",
   "metadata": {},
   "outputs": [
    {
     "name": "stdout",
     "output_type": "stream",
     "text": [
      "WARNING:tensorflow:From C:\\Users\\admin\\anaconda3\\lib\\site-packages\\keras\\src\\losses.py:2976: The name tf.losses.sparse_softmax_cross_entropy is deprecated. Please use tf.compat.v1.losses.sparse_softmax_cross_entropy instead.\n",
      "\n"
     ]
    },
    {
     "name": "stderr",
     "output_type": "stream",
     "text": [
      "C:\\Users\\admin\\anaconda3\\lib\\site-packages\\pandas\\core\\arrays\\masked.py:60: UserWarning: Pandas requires version '1.3.6' or newer of 'bottleneck' (version '1.3.5' currently installed).\n",
      "  from pandas.core import (\n"
     ]
    },
    {
     "name": "stdout",
     "output_type": "stream",
     "text": [
      "WARNING:tensorflow:From C:\\Users\\admin\\anaconda3\\lib\\site-packages\\keras\\src\\backend.py:1398: The name tf.executing_eagerly_outside_functions is deprecated. Please use tf.compat.v1.executing_eagerly_outside_functions instead.\n",
      "\n",
      "WARNING:tensorflow:From C:\\Users\\admin\\anaconda3\\lib\\site-packages\\keras\\src\\layers\\pooling\\max_pooling2d.py:161: The name tf.nn.max_pool is deprecated. Please use tf.nn.max_pool2d instead.\n",
      "\n"
     ]
    }
   ],
   "source": [
    "import numpy as np\n",
    "import tensorflow as tf\n",
    "from tensorflow.keras.models import load_model\n",
    "import streamlit as st\n",
    "from PIL import Image\n",
    "\n",
    "# Load the trained model\n",
    "model = load_model(\"cifar10_model.h5\")\n",
    "\n",
    "# Map class index to class labels for Fashion MNIST\n",
    "class_labels = {\n",
    "    0: 'Airplane',\n",
    "    1: 'Automobile',\n",
    "    2: 'Bird',\n",
    "    3: 'Cat',\n",
    "    4: 'Deer',\n",
    "    5: 'Dog',\n",
    "    6: 'Frog',\n",
    "    7: 'Horse',\n",
    "    8: 'Ship',\n",
    "    9: 'Truck'\n",
    "}\n",
    "\n",
    "def preprocess_image(image):\n",
    "    # Resize the image to match model input shape\n",
    "    image = image.resize((32, 32))\n",
    "    # Convert image to numpy array\n",
    "    image_array = tf.keras.preprocessing.image.img_to_array(image)\n",
    "    # Normalize pixel values to match model training\n",
    "    image_array = image_array / 255.0\n",
    "    # Expand dimensions to match model input shape\n",
    "    image_array = np.expand_dims(image_array, axis=0)\n",
    "    return image_array\n",
    "\n",
    "def classify_image(image):\n",
    "    # Preprocess the image\n",
    "    processed_image = preprocess_image(image)\n",
    "    # Make prediction\n",
    "    prediction = model.predict(processed_image)\n",
    "    # Get the predicted class label\n",
    "    predicted_class = np.argmax(prediction)\n",
    "    # Get the confidence score\n",
    "    confidence = prediction[0][predicted_class]\n",
    "    # Get the class label\n",
    "    class_label = class_labels[predicted_class]\n",
    "    return class_label, confidence\n",
    "\n",
    "def main():\n",
    "    st.title(\"Fashion MNIST Image Classifier\")\n",
    "    st.write(\"Upload an image of a fashion item to classify it.\")\n",
    "\n",
    "    uploaded_file = st.file_uploader(\"Choose an image...\", type=[\"jpg\", \"jpeg\", \"png\"])\n",
    "\n",
    "    if uploaded_file is not None:\n",
    "        image = Image.open(uploaded_file)\n",
    "        st.image(image, caption='Uploaded Image.', use_column_width=True)\n",
    "\n",
    "        if st.button('Classify'):\n",
    "            class_label, confidence = classify_image(image)\n",
    "            st.write(f\"Predicted Class: {class_label}\")\n",
    "            st.write(f\"Confidence: {confidence:.2f}\")\n",
    "\n",
    "if __name__ == \"_main_\":\n",
    "    main()"
   ]
  }
 ],
 "metadata": {
  "kernelspec": {
   "display_name": "Python 3 (ipykernel)",
   "language": "python",
   "name": "python3"
  },
  "language_info": {
   "codemirror_mode": {
    "name": "ipython",
    "version": 3
   },
   "file_extension": ".py",
   "mimetype": "text/x-python",
   "name": "python",
   "nbconvert_exporter": "python",
   "pygments_lexer": "ipython3",
   "version": "3.10.9"
  }
 },
 "nbformat": 4,
 "nbformat_minor": 5
}
